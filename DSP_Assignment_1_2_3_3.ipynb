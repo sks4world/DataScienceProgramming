{
 "cells": [
  {
   "cell_type": "markdown",
   "metadata": {},
   "source": [
    "# Assignment 1\n",
    "The questions below relate to the data files associated with the contest with the title 'DengAI: Predicting Disease Spread' published at the following website. \n",
    "https://www.drivendata.org/competitions/44/dengai-predicting-disease-spread/data/\n",
    "\n",
    "Problem description:\n",
    "Your goal is to predict the total_cases label for each (city, year, weekofyear) in the test set. There are two cities, San Juan and Iquitos, with test data for each city spanning 5 and 3 years respectively. You will make one submission that contains predictions for both cities. The data for each city have been concatenated along with a city column indicating the source: sj for San Juan and iq for Iquitos. The test set is a pure future hold-out, meaning the test data are sequential and non-overlapping with any of the training data. Throughout, missing values have been filled as NaNs.\n",
    "\n",
    "Assignment:\n",
    "The goal is achieved through three subsequent Assignments 1, 2 and 3, all using the same dataset\n"
   ]
  },
  {
   "cell_type": "markdown",
   "metadata": {},
   "source": [
    "The features in this dataset\n",
    "You are provided the following set of information on a (year, weekofyear) timescale:\n",
    "\n",
    "(Where appropriate, units are provided as a _unit suffix on the feature name.)\n",
    "\n",
    "City and date indicators\n",
    "\n",
    "    city – City abbreviations: sj for San Juan and iq for Iquitos\n",
    "    week_start_date – Date given in yyyy-mm-dd format\n",
    "\n",
    "NOAA's GHCN daily climate data weather station measurements\n",
    "\n",
    "    station_max_temp_c – Maximum temperature\n",
    "    station_min_temp_c – Minimum temperature\n",
    "    station_avg_temp_c – Average temperature\n",
    "    station_precip_mm – Total precipitation\n",
    "    station_diur_temp_rng_c – Diurnal temperature range\n",
    "    \n",
    "PERSIANN satellite precipitation measurements (0.25x0.25 degree scale)\n",
    "\n",
    "    precipitation_amt_mm – Total precipitation\n",
    "\n",
    "NOAA's NCEP Climate Forecast System Reanalysis measurements (0.5x0.5 degree scale)\n",
    "\n",
    "    reanalysis_sat_precip_amt_mm – Total precipitation\n",
    "    reanalysis_dew_point_temp_k – Mean dew point temperature\n",
    "    reanalysis_air_temp_k – Mean air temperature\n",
    "    reanalysis_relative_humidity_percent – Mean relative humidity\n",
    "    reanalysis_specific_humidity_g_per_kg – Mean specific humidity\n",
    "    reanalysis_precip_amt_kg_per_m2 – Total precipitation\n",
    "    reanalysis_max_air_temp_k – Maximum air temperature\n",
    "    reanalysis_min_air_temp_k – Minimum air temperature\n",
    "    reanalysis_avg_temp_k – Average air temperature\n",
    "    reanalysis_tdtr_k – Diurnal temperature range\n",
    "\n",
    "Satellite vegetation - Normalized difference vegetation index (NDVI) - NOAA's CDR Normalized Difference Vegetation Index (0.5x0.5 degree scale) measurements\n",
    "\n",
    "    ndvi_se – Pixel southeast of city centroid\n",
    "    ndvi_sw – Pixel southwest of city centroid\n",
    "    ndvi_ne – Pixel northeast of city centroid\n",
    "    ndvi_nw – Pixel northwest of city centroid"
   ]
  },
  {
   "cell_type": "markdown",
   "metadata": {},
   "source": [
    "1. Load the file 'dengue_features_train.csv', display the top 3 rows and observe the data. Then programmatically define the column names to make the following changes. One example is given to rename 'temp' to 'tmp'. Use this example to do the following\n",
    "\n",
    "a). rename columns which have 'station' such that 'station' is abbreviated to 'stn' and rest of column name remains intact. For example column name 'station_diur_temp_rng_c' is renamed to 'station_diur_tmp_rng_c'\n",
    "\n",
    "b). similarly rename columns which have 'reanalysis' to abbreviate 're_an', retaining rest of column name same\n",
    "\n",
    "c). rename columns which have 'humidity' to abbreviate to 'hd', retaining rest of column name same\n",
    "\n",
    "d). abbreviate 'precipitation' part of column name to 'prec', retaining rest of column name same\n",
    "\n",
    "e). view top 3 rows and recheck if column name changes have taken effect\n",
    "\n",
    "f). check the type of columns in dataframe\n",
    "\n",
    "g). Change the column 'year' as categorical variable and check if the column data type is changed and the levels of category are correct. As an example, 'city' is converted into categorical below with two categories (of cities)."
   ]
  },
  {
   "cell_type": "code",
   "execution_count": 2,
   "metadata": {},
   "outputs": [],
   "source": [
    "#Import Libraries\n",
    "import pandas as pd\n",
    "import os\n",
    "import matplotlib.pyplot as plt\n",
    "import seaborn as sns"
   ]
  },
  {
   "cell_type": "code",
   "execution_count": 4,
   "metadata": {},
   "outputs": [
    {
     "name": "stdout",
     "output_type": "stream",
     "text": [
      "  city  year  weekofyear week_start_date  ndvi_ne   ndvi_nw   ndvi_se  \\\n",
      "0   sj  1990          18      1990-04-30  0.12260  0.103725  0.198483   \n",
      "1   sj  1990          19      1990-05-07  0.16990  0.142175  0.162357   \n",
      "2   sj  1990          20      1990-05-14  0.03225  0.172967  0.157200   \n",
      "\n",
      "    ndvi_sw  precipitation_amt_mm  reanalysis_air_temp_k  ...  \\\n",
      "0  0.177617                 12.42             297.572857  ...   \n",
      "1  0.155486                 22.82             298.211429  ...   \n",
      "2  0.170843                 34.54             298.781429  ...   \n",
      "\n",
      "   reanalysis_precip_amt_kg_per_m2  reanalysis_relative_humidity_percent  \\\n",
      "0                            32.00                             73.365714   \n",
      "1                            17.94                             77.368571   \n",
      "2                            26.10                             82.052857   \n",
      "\n",
      "   reanalysis_sat_precip_amt_mm  reanalysis_specific_humidity_g_per_kg  \\\n",
      "0                         12.42                              14.012857   \n",
      "1                         22.82                              15.372857   \n",
      "2                         34.54                              16.848571   \n",
      "\n",
      "   reanalysis_tdtr_k  station_avg_temp_c  station_diur_temp_rng_c  \\\n",
      "0           2.628571           25.442857                 6.900000   \n",
      "1           2.371429           26.714286                 6.371429   \n",
      "2           2.300000           26.714286                 6.485714   \n",
      "\n",
      "   station_max_temp_c  station_min_temp_c  station_precip_mm  \n",
      "0                29.4                20.0               16.0  \n",
      "1                31.7                22.2                8.6  \n",
      "2                32.2                22.8               41.4  \n",
      "\n",
      "[3 rows x 24 columns]\n"
     ]
    }
   ],
   "source": [
    "os.chdir('B:\\\\Travel\\\\US\\\\USF_Course\\\\GA')\n",
    "df = pd.read_csv('dengue_features_train.csv')\n",
    "print(df.head(3))\n"
   ]
  },
  {
   "cell_type": "code",
   "execution_count": 5,
   "metadata": {},
   "outputs": [],
   "source": [
    "df.columns = df.columns.str.replace(\"temp\", \"tmp\")"
   ]
  },
  {
   "cell_type": "code",
   "execution_count": 6,
   "metadata": {},
   "outputs": [
    {
     "name": "stdout",
     "output_type": "stream",
     "text": [
      "  city  year  weekofyear week_start_date  ndvi_ne   ndvi_nw   ndvi_se  \\\n",
      "0   sj  1990          18      1990-04-30  0.12260  0.103725  0.198483   \n",
      "1   sj  1990          19      1990-05-07  0.16990  0.142175  0.162357   \n",
      "2   sj  1990          20      1990-05-14  0.03225  0.172967  0.157200   \n",
      "\n",
      "    ndvi_sw  precipitation_amt_mm  reanalysis_air_tmp_k  ...  \\\n",
      "0  0.177617                 12.42            297.572857  ...   \n",
      "1  0.155486                 22.82            298.211429  ...   \n",
      "2  0.170843                 34.54            298.781429  ...   \n",
      "\n",
      "   reanalysis_precip_amt_kg_per_m2  reanalysis_relative_humidity_percent  \\\n",
      "0                            32.00                             73.365714   \n",
      "1                            17.94                             77.368571   \n",
      "2                            26.10                             82.052857   \n",
      "\n",
      "   reanalysis_sat_precip_amt_mm  reanalysis_specific_humidity_g_per_kg  \\\n",
      "0                         12.42                              14.012857   \n",
      "1                         22.82                              15.372857   \n",
      "2                         34.54                              16.848571   \n",
      "\n",
      "   reanalysis_tdtr_k  station_avg_tmp_c  station_diur_tmp_rng_c  \\\n",
      "0           2.628571          25.442857                6.900000   \n",
      "1           2.371429          26.714286                6.371429   \n",
      "2           2.300000          26.714286                6.485714   \n",
      "\n",
      "   station_max_tmp_c  station_min_tmp_c  station_precip_mm  \n",
      "0               29.4               20.0               16.0  \n",
      "1               31.7               22.2                8.6  \n",
      "2               32.2               22.8               41.4  \n",
      "\n",
      "[3 rows x 24 columns]\n"
     ]
    }
   ],
   "source": [
    "print(df.head(3))"
   ]
  },
  {
   "cell_type": "code",
   "execution_count": 7,
   "metadata": {},
   "outputs": [
    {
     "data": {
      "text/plain": [
       "city                                      object\n",
       "year                                       int64\n",
       "weekofyear                                 int64\n",
       "week_start_date                           object\n",
       "ndvi_ne                                  float64\n",
       "ndvi_nw                                  float64\n",
       "ndvi_se                                  float64\n",
       "ndvi_sw                                  float64\n",
       "precipitation_amt_mm                     float64\n",
       "reanalysis_air_tmp_k                     float64\n",
       "reanalysis_avg_tmp_k                     float64\n",
       "reanalysis_dew_point_tmp_k               float64\n",
       "reanalysis_max_air_tmp_k                 float64\n",
       "reanalysis_min_air_tmp_k                 float64\n",
       "reanalysis_precip_amt_kg_per_m2          float64\n",
       "reanalysis_relative_humidity_percent     float64\n",
       "reanalysis_sat_precip_amt_mm             float64\n",
       "reanalysis_specific_humidity_g_per_kg    float64\n",
       "reanalysis_tdtr_k                        float64\n",
       "station_avg_tmp_c                        float64\n",
       "station_diur_tmp_rng_c                   float64\n",
       "station_max_tmp_c                        float64\n",
       "station_min_tmp_c                        float64\n",
       "station_precip_mm                        float64\n",
       "dtype: object"
      ]
     },
     "execution_count": 7,
     "metadata": {},
     "output_type": "execute_result"
    }
   ],
   "source": [
    "df.dtypes"
   ]
  },
  {
   "cell_type": "code",
   "execution_count": 8,
   "metadata": {},
   "outputs": [
    {
     "name": "stdout",
     "output_type": "stream",
     "text": [
      "Column 'city' has two categories namely: [sj, iq]\n",
      "Categories (2, object): [sj, iq]\n"
     ]
    },
    {
     "data": {
      "text/plain": [
       "city                                     category\n",
       "year                                        int64\n",
       "weekofyear                                  int64\n",
       "week_start_date                            object\n",
       "ndvi_ne                                   float64\n",
       "ndvi_nw                                   float64\n",
       "ndvi_se                                   float64\n",
       "ndvi_sw                                   float64\n",
       "precipitation_amt_mm                      float64\n",
       "reanalysis_air_tmp_k                      float64\n",
       "reanalysis_avg_tmp_k                      float64\n",
       "reanalysis_dew_point_tmp_k                float64\n",
       "reanalysis_max_air_tmp_k                  float64\n",
       "reanalysis_min_air_tmp_k                  float64\n",
       "reanalysis_precip_amt_kg_per_m2           float64\n",
       "reanalysis_relative_humidity_percent      float64\n",
       "reanalysis_sat_precip_amt_mm              float64\n",
       "reanalysis_specific_humidity_g_per_kg     float64\n",
       "reanalysis_tdtr_k                         float64\n",
       "station_avg_tmp_c                         float64\n",
       "station_diur_tmp_rng_c                    float64\n",
       "station_max_tmp_c                         float64\n",
       "station_min_tmp_c                         float64\n",
       "station_precip_mm                         float64\n",
       "dtype: object"
      ]
     },
     "execution_count": 8,
     "metadata": {},
     "output_type": "execute_result"
    }
   ],
   "source": [
    "df.city = df.city.astype('category')\n",
    "print('Column \\'city\\' has two categories namely: %*s' % (10,df.city.unique())  )\n",
    "\n",
    "df.dtypes\n"
   ]
  },
  {
   "cell_type": "markdown",
   "metadata": {},
   "source": [
    "2. The predictor column (y-value) is present in the file 'dengue_labels_train.csv'. Read this file in a new dataframe and merge it with the above dataframe using city, year and weekofyear as join conditions. \n",
    "a). Do a random check by printing few values from both files and merged file\n",
    "b). Do a scatter plot of weekofyear on x-axis and total_cases on y-axis and observe if there is a relationship.\n",
    "c). Do a box plot to observe the density of data and if it complies to Central Limit Theorem (for large enough data, mean of sample is mean of population, or data is tightly packed close to the mean)\n",
    "d). Find the mean, min, max and standard deviation of total_cases by city\n",
    "e). Read the relationship between mean and standard deviation from the link given here and describe the data of total_cases by city, if there is too much variation or too little variation https://www-users.york.ac.uk/~mb55/msc/applbio/week3/sd_text.pdf"
   ]
  },
  {
   "cell_type": "code",
   "execution_count": 9,
   "metadata": {},
   "outputs": [],
   "source": [
    "df_a = pd.read_csv('dengue_labels_train.csv')\n",
    "df_merged = pd.merge(df, df_a, how='left', left_on=['city', 'year', 'weekofyear'], right_on=['city', 'year', 'weekofyear'])"
   ]
  },
  {
   "cell_type": "code",
   "execution_count": 10,
   "metadata": {},
   "outputs": [
    {
     "name": "stdout",
     "output_type": "stream",
     "text": [
      "  city  year  weekofyear  total_cases\n",
      "0   sj  1990          18            4\n"
     ]
    }
   ],
   "source": [
    "print(df_a.head(1))"
   ]
  },
  {
   "cell_type": "code",
   "execution_count": 11,
   "metadata": {},
   "outputs": [
    {
     "name": "stdout",
     "output_type": "stream",
     "text": [
      "  city  year  weekofyear week_start_date  ndvi_ne   ndvi_nw   ndvi_se  \\\n",
      "0   sj  1990          18      1990-04-30   0.1226  0.103725  0.198483   \n",
      "\n",
      "    ndvi_sw  precipitation_amt_mm  reanalysis_air_tmp_k  ...  \\\n",
      "0  0.177617                 12.42            297.572857  ...   \n",
      "\n",
      "   reanalysis_relative_humidity_percent  reanalysis_sat_precip_amt_mm  \\\n",
      "0                             73.365714                         12.42   \n",
      "\n",
      "   reanalysis_specific_humidity_g_per_kg  reanalysis_tdtr_k  \\\n",
      "0                              14.012857           2.628571   \n",
      "\n",
      "   station_avg_tmp_c  station_diur_tmp_rng_c  station_max_tmp_c  \\\n",
      "0          25.442857                     6.9               29.4   \n",
      "\n",
      "   station_min_tmp_c  station_precip_mm  total_cases  \n",
      "0               20.0               16.0            4  \n",
      "\n",
      "[1 rows x 25 columns]\n"
     ]
    }
   ],
   "source": [
    "print(df_merged.head(1))"
   ]
  },
  {
   "cell_type": "code",
   "execution_count": 12,
   "metadata": {},
   "outputs": [
    {
     "name": "stdout",
     "output_type": "stream",
     "text": [
      "df_a values for 10th row -----------------\n",
      "city             sj\n",
      "year           1990\n",
      "weekofyear       28\n",
      "total_cases       8\n",
      "Name: 10, dtype: object\n",
      "df_merged values ----------------- do they match?\n",
      "city             sj\n",
      "year           1990\n",
      "weekofyear       28\n",
      "total_cases       8\n",
      "Name: 10, dtype: object\n",
      "df_a values for 100th row-----------------\n",
      "city             sj\n",
      "year           1992\n",
      "weekofyear       14\n",
      "total_cases      30\n",
      "Name: 100, dtype: object\n",
      "df_merged values ----------------- do they match?\n",
      "city             sj\n",
      "year           1992\n",
      "weekofyear       14\n",
      "total_cases      30\n",
      "Name: 100, dtype: object\n",
      "df_a values -----------------\n",
      "city             iq\n",
      "year           2001\n",
      "weekofyear       39\n",
      "total_cases       0\n",
      "Name: 1000, dtype: object\n",
      "df_merged values ----------------- do they match?\n",
      "city             iq\n",
      "year           2001\n",
      "weekofyear       39\n",
      "total_cases       0\n",
      "Name: 1000, dtype: object\n",
      "df_a values -----------------\n",
      "city             iq\n",
      "year           2009\n",
      "weekofyear       23\n",
      "total_cases       3\n",
      "Name: 1400, dtype: object\n",
      "df_merged values ----------------- do they match?\n",
      "city             iq\n",
      "year           2009\n",
      "weekofyear       23\n",
      "total_cases       3\n",
      "Name: 1400, dtype: object\n",
      "-----------------\n"
     ]
    }
   ],
   "source": [
    "print('df_a values for 10th row -----------------')\n",
    "print(df_a.iloc[10][['city', 'year', 'weekofyear', 'total_cases' ]])\n",
    "print('df_merged values ----------------- do they match?')\n",
    "print(df_merged.iloc[10][['city', 'year', 'weekofyear', 'total_cases' ]])\n",
    "print('df_a values for 100th row-----------------')\n",
    "print(df_a.iloc[100][['city', 'year', 'weekofyear', 'total_cases' ]])\n",
    "print('df_merged values ----------------- do they match?')\n",
    "print(df_merged.iloc[100][['city', 'year', 'weekofyear', 'total_cases' ]])\n",
    "print('df_a values -----------------')\n",
    "print(df_a.iloc[1000][['city', 'year', 'weekofyear', 'total_cases' ]])\n",
    "print('df_merged values ----------------- do they match?')\n",
    "print(df_merged.iloc[1000][['city', 'year', 'weekofyear', 'total_cases' ]])\n",
    "print('df_a values -----------------')\n",
    "print(df_a.iloc[1400][['city', 'year', 'weekofyear', 'total_cases' ]])\n",
    "print('df_merged values ----------------- do they match?')\n",
    "print(df_merged.iloc[1400][['city', 'year', 'weekofyear', 'total_cases' ]])\n",
    "print('-----------------')\n"
   ]
  },
  {
   "cell_type": "code",
   "execution_count": 13,
   "metadata": {},
   "outputs": [
    {
     "data": {
      "text/plain": [
       "city                                       0\n",
       "year                                       0\n",
       "weekofyear                                 0\n",
       "week_start_date                            0\n",
       "ndvi_ne                                  194\n",
       "ndvi_nw                                   52\n",
       "ndvi_se                                   22\n",
       "ndvi_sw                                   22\n",
       "precipitation_amt_mm                      13\n",
       "reanalysis_air_tmp_k                      10\n",
       "reanalysis_avg_tmp_k                      10\n",
       "reanalysis_dew_point_tmp_k                10\n",
       "reanalysis_max_air_tmp_k                  10\n",
       "reanalysis_min_air_tmp_k                  10\n",
       "reanalysis_precip_amt_kg_per_m2           10\n",
       "reanalysis_relative_humidity_percent      10\n",
       "reanalysis_sat_precip_amt_mm              13\n",
       "reanalysis_specific_humidity_g_per_kg     10\n",
       "reanalysis_tdtr_k                         10\n",
       "station_avg_tmp_c                         43\n",
       "station_diur_tmp_rng_c                    43\n",
       "station_max_tmp_c                         20\n",
       "station_min_tmp_c                         14\n",
       "station_precip_mm                         22\n",
       "total_cases                                0\n",
       "dtype: int64"
      ]
     },
     "execution_count": 13,
     "metadata": {},
     "output_type": "execute_result"
    }
   ],
   "source": [
    "#Count NANs in dataframe\n",
    "df_merged.isnull().sum()"
   ]
  },
  {
   "cell_type": "code",
   "execution_count": 14,
   "metadata": {},
   "outputs": [
    {
     "data": {
      "text/plain": [
       "city                                     0\n",
       "year                                     0\n",
       "weekofyear                               0\n",
       "week_start_date                          0\n",
       "ndvi_ne                                  0\n",
       "ndvi_nw                                  0\n",
       "ndvi_se                                  0\n",
       "ndvi_sw                                  0\n",
       "precipitation_amt_mm                     0\n",
       "reanalysis_air_tmp_k                     0\n",
       "reanalysis_avg_tmp_k                     0\n",
       "reanalysis_dew_point_tmp_k               0\n",
       "reanalysis_max_air_tmp_k                 0\n",
       "reanalysis_min_air_tmp_k                 0\n",
       "reanalysis_precip_amt_kg_per_m2          0\n",
       "reanalysis_relative_humidity_percent     0\n",
       "reanalysis_sat_precip_amt_mm             0\n",
       "reanalysis_specific_humidity_g_per_kg    0\n",
       "reanalysis_tdtr_k                        0\n",
       "station_avg_tmp_c                        0\n",
       "station_diur_tmp_rng_c                   0\n",
       "station_max_tmp_c                        0\n",
       "station_min_tmp_c                        0\n",
       "station_precip_mm                        0\n",
       "total_cases                              0\n",
       "dtype: int64"
      ]
     },
     "execution_count": 14,
     "metadata": {},
     "output_type": "execute_result"
    }
   ],
   "source": [
    "#Fill NANs with 0 (some of the other methods: or forward fille or backward fill fill with mean value or remove them)\n",
    "df_merged = df_merged.fillna(method='ffill')\n",
    "df_merged.isnull().sum()"
   ]
  },
  {
   "cell_type": "code",
   "execution_count": 15,
   "metadata": {},
   "outputs": [
    {
     "data": {
      "image/png": "[encoded data removed]",
      "text/plain": [
       "<Figure size 432x288 with 1 Axes>"
      ]
     },
     "metadata": {
      "needs_background": "light"
     },
     "output_type": "display_data"
    }
   ],
   "source": [
    "plt.scatter(df_merged.weekofyear, df_merged.total_cases)\n",
    "plt.xlabel('weekofyear')\n",
    "plt.ylabel('total_cases')\n",
    "plt.title('Number of Dengue cases by week number from 1990 to 2010')\n",
    "plt.show()"
   ]
  },
  {
   "cell_type": "code",
   "execution_count": 16,
   "metadata": {},
   "outputs": [
    {
     "data": {
      "text/plain": [
       "<matplotlib.axes._subplots.AxesSubplot at 0xd900eb8>"
      ]
     },
     "execution_count": 16,
     "metadata": {},
     "output_type": "execute_result"
    },
    {
     "data": {
      "image/png": "[encoded data removed]",
      "text/plain": [
       "<Figure size 432x288 with 1 Axes>"
      ]
     },
     "metadata": {
      "needs_background": "light"
     },
     "output_type": "display_data"
    }
   ],
   "source": [
    "sns.boxplot(x='city', y='total_cases', data=df_merged)\n",
    "#The data points inside the box represent datapoints densely packed close to mean (like center of normal bell curve)"
   ]
  },
  {
   "cell_type": "code",
   "execution_count": 17,
   "metadata": {},
   "outputs": [
    {
     "name": "stdout",
     "output_type": "stream",
     "text": [
      "('min of total_cases by city is:', city\n",
      "iq    0\n",
      "sj    0\n",
      "Name: total_cases, dtype: int64)\n",
      "('max of total_cases by city is:', city\n",
      "iq    116\n",
      "sj    461\n",
      "Name: total_cases, dtype: int64)\n",
      "('mean of total_cases by city is:', city\n",
      "iq     7.565385\n",
      "sj    34.180556\n",
      "Name: total_cases, dtype: float64)\n",
      "('std.dev of total_cases by city is:', city\n",
      "iq    10.765478\n",
      "sj    51.381372\n",
      "Name: total_cases, dtype: float64)\n"
     ]
    }
   ],
   "source": [
    "print('min of total_cases by city is:', df_merged.groupby('city').total_cases.min())\n",
    "print('max of total_cases by city is:', df_merged.groupby('city').total_cases.max())\n",
    "print('mean of total_cases by city is:', df_merged.groupby('city').total_cases.mean())\n",
    "print('std.dev of total_cases by city is:', df_merged.groupby('city').total_cases.std())\n",
    "\n"
   ]
  },
  {
   "cell_type": "markdown",
   "metadata": {},
   "source": [
    "3. How many years in the city iq have greater than or equal to 50 total_cases of dengue and in which years?"
   ]
  },
  {
   "cell_type": "markdown",
   "metadata": {},
   "source": [
    "4. Optional Question (no credit, or no extra credit): Find and remove the outliers to bring the mean and standard deviation closer to each other."
   ]
  },
  {
   "cell_type": "markdown",
   "metadata": {},
   "source": [
    "5. Create a temp data frame by grouping the total_cases by weekofyear and draw a histogram of total_cases and provide insights based on the distribution. An example is shown for histogram of grouping by year"
   ]
  },
  {
   "cell_type": "code",
   "execution_count": 18,
   "metadata": {},
   "outputs": [
    {
     "name": "stdout",
     "output_type": "stream",
     "text": [
      "      total_cases\n",
      "year             \n",
      "1990          866\n",
      "1991         2801\n",
      "1992         2371\n",
      "1993         1156\n",
      "1994         6533\n",
      "1995         1333\n",
      "1996          855\n",
      "1997         1454\n",
      "1998         4595\n",
      "1999         1633\n",
      "2000          496\n",
      "2001         1477\n",
      "2002         1156\n",
      "2003         1063\n",
      "2004         1248\n",
      "2005         2116\n",
      "2006          986\n",
      "2007         2334\n",
      "2008          907\n",
      "2009          324\n",
      "2010          223\n",
      "Index([u'total_cases'], dtype='object')\n"
     ]
    }
   ],
   "source": [
    "df_merged_tmp = pd.DataFrame(df_merged.groupby(by='year')['total_cases'].sum())\n",
    "print(df_merged_tmp.head(30))\n",
    "print(df_merged_tmp.columns)\n"
   ]
  },
  {
   "cell_type": "code",
   "execution_count": 19,
   "metadata": {},
   "outputs": [
    {
     "data": {
      "text/plain": [
       "(array([ 3., 11.,  1.,  3.,  1.,  0.,  1.,  0.,  0.,  1.]),\n",
       " array([ 223.,  854., 1485., 2116., 2747., 3378., 4009., 4640., 5271.,\n",
       "        5902., 6533.]),\n",
       " <a list of 10 Patch objects>)"
      ]
     },
     "execution_count": 19,
     "metadata": {},
     "output_type": "execute_result"
    },
    {
     "data": {
      "image/png": "[encoded data removed]",
      "text/plain": [
       "<Figure size 432x288 with 1 Axes>"
      ]
     },
     "metadata": {
      "needs_background": "light"
     },
     "output_type": "display_data"
    }
   ],
   "source": [
    "plt.hist(df_merged_tmp['total_cases'])"
   ]
  },
  {
   "cell_type": "markdown",
   "metadata": {},
   "source": [
    "# Assignment 2"
   ]
  },
  {
   "cell_type": "markdown",
   "metadata": {},
   "source": [
    "Use the merged data frame from Assignment 1 for this assignment\n",
    "This Assignment focuses on data preprocessing and model building. Continue with the datasets loaded in Assignment 1 (or reload with same steps and create merged data frame) and Make a stratified 80-20 split based on target to ensure there are no biases in the dataset. Predict the \"total_cases\" using a stochastic gradient descent regressor. Calculate the Root Mean Square Error. Also, plot Learning Curve for the model. Provide your intepretations based on these metrics."
   ]
  },
  {
   "cell_type": "markdown",
   "metadata": {},
   "source": [
    "<ul>\n",
    "    <li>Import the required libraries</li>\n",
    "    <li>Make an 80-20 stratified split based on the target data</li>\n",
    "    <li>Preprocess the data (Encode the  categorical features and Standardize the numerical features)</li>\n",
    "    <li>Build a stochastic gradient descent regressor, train the model and make predictions using it</li>\n",
    "    <li>Evaluate your model based on the various metrics stated above</li>\n",
    "    <li>Plot Learning curve and provide insights</li>\n",
    "</ul>"
   ]
  },
  {
   "cell_type": "code",
   "execution_count": 20,
   "metadata": {},
   "outputs": [],
   "source": [
    "from sklearn import preprocessing\n",
    "#df_s=pd.DataFrame(preprocessing.scale(df), columns=['AT', 'V','AP','RH','PE'])\n",
    "#from sklearn.preprocessing import OneHotEncoder\n",
    "from sklearn.preprocessing import LabelEncoder\n",
    "le_city = LabelEncoder()\n",
    "df['city_encoded'] = le_city.fit_transform(df.city)"
   ]
  },
  {
   "cell_type": "code",
   "execution_count": 21,
   "metadata": {},
   "outputs": [],
   "source": [
    "from sklearn.model_selection import train_test_split\n",
    "\n",
    "X=df_merged.filter(['city_encoded', 'year', 'weekofyear', 'ndvi_ne', 'ndvi_nw','ndvi_se', 'ndvi_sw', 'precipitation_amt_mm', \n",
    "               'reanalysis_air_tmp_k', 'reanalysis_relative_humidity_percent','reanalysis_sat_precip_amt_mm',\n",
    "              'reanalysis_specific_humidity_g_per_kg', 'reanalysis_tdtr_k', 'station_avg_tmp_c', \n",
    "               'station_diur_tmp_rng_c', 'station_max_tmp_c', 'station_min_tmp_c',  'station_precip_mm' ])\n",
    "y=df_merged.filter(['total_cases'])\n",
    "\n",
    "X_train, X_test, y_train, y_test=train_test_split(X,y)"
   ]
  },
  {
   "cell_type": "code",
   "execution_count": 22,
   "metadata": {},
   "outputs": [
    {
     "name": "stdout",
     "output_type": "stream",
     "text": [
      "((1092, 17), (364, 17), (1092, 1), (364, 1))\n"
     ]
    }
   ],
   "source": [
    "print(X_train.shape, X_test.shape, y_train.shape, y_test.shape)"
   ]
  },
  {
   "cell_type": "code",
   "execution_count": 26,
   "metadata": {},
   "outputs": [],
   "source": [
    "import numpy as np\n",
    "from sklearn.linear_model import SGDRegressor"
   ]
  },
  {
   "cell_type": "code",
   "execution_count": 27,
   "metadata": {},
   "outputs": [],
   "source": [
    "sgd_reg_mdl = linear_model.SGDRegressor(max_iter=1000, tol=1e-3)"
   ]
  },
  {
   "cell_type": "code",
   "execution_count": 28,
   "metadata": {},
   "outputs": [
    {
     "data": {
      "text/plain": [
       "SGDRegressor(alpha=0.0001, average=False, early_stopping=False, epsilon=0.1,\n",
       "       eta0=0.01, fit_intercept=True, l1_ratio=0.15,\n",
       "       learning_rate='invscaling', loss='squared_loss', max_iter=None,\n",
       "       n_iter=None, n_iter_no_change=5, penalty='l2', power_t=0.25,\n",
       "       random_state=None, shuffle=True, tol=None, validation_fraction=0.1,\n",
       "       verbose=0, warm_start=False)"
      ]
     },
     "execution_count": 28,
     "metadata": {},
     "output_type": "execute_result"
    }
   ],
   "source": [
    "sgd_reg_mdl.fit(X_train, y_train)\n",
    "SGDRegressor()"
   ]
  },
  {
   "cell_type": "code",
   "execution_count": 29,
   "metadata": {},
   "outputs": [],
   "source": [
    "y_pred1=sgd_reg_mdl.predict(X_test)"
   ]
  },
  {
   "cell_type": "code",
   "execution_count": 36,
   "metadata": {},
   "outputs": [
    {
     "name": "stdout",
     "output_type": "stream",
     "text": [
      "('Mean Squared Error is: ', 3.465046353472365e+29)\n",
      "('Mean Absolute Error is: ', 578705843913090.8)\n"
     ]
    }
   ],
   "source": [
    "from sklearn.metrics import mean_squared_error\n",
    "from sklearn.metrics import mean_absolute_error\n",
    "\n",
    "\n",
    "mse1=mean_squared_error(y_test,y_pred1)\n",
    "print('Mean Squared Error is: ', mse1)\n",
    "mae1=mean_absolute_error(y_test,y_pred1)\n",
    "print('Mean Absolute Error is: ', mae1)"
   ]
  },
  {
   "cell_type": "code",
   "execution_count": 34,
   "metadata": {},
   "outputs": [
    {
     "data": {
      "image/png": "[encoded data removed]",
      "text/plain": [
       "<Figure size 432x288 with 1 Axes>"
      ]
     },
     "metadata": {
      "needs_background": "light"
     },
     "output_type": "display_data"
    }
   ],
   "source": [
    "import numpy as np\n",
    "\n",
    "def plot_learning_curves(model, X, y):\n",
    "    X_train, X_val, y_train, y_val = train_test_split(X, y, test_size=0.2)\n",
    "    train_errors, val_errors = [], []\n",
    "    for m in range(1, len(X_train)):\n",
    "        model.fit(X_train[:m], y_train[:m])\n",
    "        y_train_predict = model.predict(X_train[:m])\n",
    "        y_val_predict = model.predict(X_val)\n",
    "        train_errors.append(mean_squared_error(y_train_predict, y_train[:m]))\n",
    "        val_errors.append(mean_squared_error(y_val_predict, y_val))\n",
    "    plt.plot(np.sqrt(train_errors), \"r-+\", linewidth=2, label=\"train\")\n",
    "    plt.plot(np.sqrt(val_errors), \"b-\", linewidth=3, label=\"val\")\n",
    "    plt.xlabel('Training set size')\n",
    "    plt.ylabel('RMSE')\n",
    "    plt.title('Plot of Training Errors (red) vs Validation Errors (blue) ')\n",
    "    \n",
    "df_merged_sample=df_merged.sample(100)\n",
    "#print(df_merged_sample.head(3))\n",
    "#X_sample=df_merged_sample[['AT', 'V', 'AP', 'RH']]\n",
    "#y_sample=df_merged_sample[['PE']]\n",
    "#plot_learning_curves(svm_reg2,X_sample, y_sample)\n",
    "\n",
    "X_sample=df_merged_sample.filter(['city_encoded', 'year', 'weekofyear', 'ndvi_ne', 'ndvi_nw','ndvi_se', 'ndvi_sw', 'precipitation_amt_mm', \n",
    "               'reanalysis_air_tmp_k', 'reanalysis_relative_humidity_percent','reanalysis_sat_precip_amt_mm',\n",
    "              'reanalysis_specific_humidity_g_per_kg', 'reanalysis_tdtr_k', 'station_avg_tmp_c', \n",
    "               'station_diur_tmp_rng_c', 'station_max_tmp_c', 'station_min_tmp_c',  'station_precip_mm' ])\n",
    "y_sample=df_merged_sample.filter(['total_cases'])\n",
    "plot_learning_curves(sgd_reg_mdl,X_sample, y_sample)"
   ]
  },
  {
   "cell_type": "code",
   "execution_count": null,
   "metadata": {},
   "outputs": [],
   "source": []
  },
  {
   "cell_type": "code",
   "execution_count": null,
   "metadata": {},
   "outputs": [],
   "source": []
  },
  {
   "cell_type": "code",
   "execution_count": null,
   "metadata": {},
   "outputs": [],
   "source": []
  },
  {
   "cell_type": "code",
   "execution_count": null,
   "metadata": {},
   "outputs": [],
   "source": []
  },
  {
   "cell_type": "code",
   "execution_count": null,
   "metadata": {},
   "outputs": [],
   "source": []
  },
  {
   "cell_type": "markdown",
   "metadata": {},
   "source": [
    "# Assignment 3"
   ]
  },
  {
   "cell_type": "markdown",
   "metadata": {},
   "source": [
    "1. Load the same data set as before in Assignment 1 and 2 and create the merged data set\n",
    "2. Visualize the distribution of each key attibute\n",
    "3. Split the data into training and test sets\n",
    "4. For the support vector models to perform better, scale the data (if it is required)\n",
    "5. Build a linear SVR model and analyse its performances\n",
    "6. Build a SVR model with a linear kernel and compare its performances with the Linear SVR model\n",
    "7. Using a sample from the original data, plot a learning curve for the SVR model and interpret the results\n",
    "\n",
    "Create a model that has high accuracy. The contest in the linke above accepts submission of results in prescribed format. You can refine, combine the best performing criteria from your models and submit as team"
   ]
  },
  {
   "cell_type": "code",
   "execution_count": 43,
   "metadata": {},
   "outputs": [],
   "source": [
    "from sklearn import preprocessing\n",
    "\n",
    "#df_s=pd.DataFrame(preprocessing.scale(df), columns=['AT', 'V','AP','RH','PE'])\n"
   ]
  },
  {
   "cell_type": "code",
   "execution_count": 44,
   "metadata": {},
   "outputs": [],
   "source": [
    "#from sklearn.preprocessing import OneHotEncoder\n",
    "from sklearn.preprocessing import LabelEncoder\n",
    "le_city = LabelEncoder()\n",
    "df['city_encoded'] = le_city.fit_transform(df.city)"
   ]
  },
  {
   "cell_type": "code",
   "execution_count": 45,
   "metadata": {},
   "outputs": [],
   "source": [
    "from sklearn.model_selection import train_test_split\n",
    "\n",
    "X=df_merged.filter(['city_encoded', 'year', 'weekofyear', 'ndvi_ne', 'ndvi_nw','ndvi_se', 'ndvi_sw', 'precipitation_amt_mm', \n",
    "               'reanalysis_air_tmp_k', 'reanalysis_relative_humidity_percent','reanalysis_sat_precip_amt_mm',\n",
    "              'reanalysis_specific_humidity_g_per_kg', 'reanalysis_tdtr_k', 'station_avg_tmp_c', \n",
    "               'station_diur_tmp_rng_c', 'station_max_tmp_c', 'station_min_tmp_c',  'station_precip_mm' ])\n",
    "y=df_merged.filter(['total_cases'])\n",
    "\n",
    "X_train, X_test, y_train, y_test=train_test_split(X,y)\n",
    "  \n",
    "\n"
   ]
  },
  {
   "cell_type": "code",
   "execution_count": 46,
   "metadata": {},
   "outputs": [
    {
     "name": "stdout",
     "output_type": "stream",
     "text": [
      "((1092, 17), (364, 17), (1092, 1), (364, 1))\n"
     ]
    }
   ],
   "source": [
    "print(X_train.shape, X_test.shape, y_train.shape, y_test.shape)"
   ]
  },
  {
   "cell_type": "code",
   "execution_count": 47,
   "metadata": {},
   "outputs": [
    {
     "name": "stderr",
     "output_type": "stream",
     "text": [
      "C:\\Users\\brindhasrikrishna\\Anaconda2\\lib\\site-packages\\sklearn\\utils\\validation.py:761: DataConversionWarning: A column-vector y was passed when a 1d array was expected. Please change the shape of y to (n_samples, ), for example using ravel().\n",
      "  y = column_or_1d(y, warn=True)\n",
      "C:\\Users\\brindhasrikrishna\\Anaconda2\\lib\\site-packages\\sklearn\\svm\\base.py:931: ConvergenceWarning: Liblinear failed to converge, increase the number of iterations.\n",
      "  \"the number of iterations.\", ConvergenceWarning)\n"
     ]
    }
   ],
   "source": [
    "from sklearn.svm import LinearSVR\n",
    "\n",
    "svm_reg1=LinearSVR(epsilon=0.05)\n",
    "svm_reg1.fit(X_train, y_train)\n",
    "y_pred1=svm_reg1.predict(X_test)"
   ]
  },
  {
   "cell_type": "code",
   "execution_count": 48,
   "metadata": {},
   "outputs": [
    {
     "name": "stdout",
     "output_type": "stream",
     "text": [
      "1817.693159288896\n",
      "21.633215726696392\n"
     ]
    }
   ],
   "source": [
    "from sklearn.metrics import mean_squared_error\n",
    "from sklearn.metrics import mean_absolute_error\n",
    "\n",
    "\n",
    "mse1=mean_squared_error(y_test,y_pred1)\n",
    "print(mse1)\n",
    "mae1=mean_absolute_error(y_test,y_pred1)\n",
    "print(mae1)"
   ]
  },
  {
   "cell_type": "code",
   "execution_count": 37,
   "metadata": {},
   "outputs": [
    {
     "name": "stdout",
     "output_type": "stream",
     "text": [
      "('Mean Squared Error is: ', 2514.4610577312906)\n",
      "('Mean Absolute Error is: ', 578705843913090.8)\n"
     ]
    }
   ],
   "source": [
    "from sklearn.svm import SVR\n",
    "\n",
    "svm_reg2=SVR(kernel='linear', epsilon=0.05)\n",
    "svm_reg2.fit(X_train, y_train)\n",
    "y_pred2=svm_reg2.predict(X_test)\n",
    "\n",
    "mse2=mean_squared_error(y_test,y_pred2)\n",
    "print('Mean Squared Error is: ', mse2)\n",
    "mae2=mean_absolute_error(y_test,y_pred2)\n",
    "print('Mean Absolute Error is: ', mae1)"
   ]
  },
  {
   "cell_type": "code",
   "execution_count": 56,
   "metadata": {},
   "outputs": [
    {
     "data": {
      "image/png": "[encoded data removed]",
      "text/plain": [
       "<Figure size 432x288 with 1 Axes>"
      ]
     },
     "metadata": {
      "needs_background": "light"
     },
     "output_type": "display_data"
    }
   ],
   "source": [
    "import numpy as np\n",
    "\n",
    "def plot_learning_curves(model, X, y):\n",
    "    X_train, X_val, y_train, y_val = train_test_split(X, y, test_size=0.2)\n",
    "    train_errors, val_errors = [], []\n",
    "    for m in range(1, len(X_train)):\n",
    "        model.fit(X_train[:m], y_train[:m])\n",
    "        y_train_predict = model.predict(X_train[:m])\n",
    "        y_val_predict = model.predict(X_val)\n",
    "        train_errors.append(mean_squared_error(y_train_predict, y_train[:m]))\n",
    "        val_errors.append(mean_squared_error(y_val_predict, y_val))\n",
    "    plt.plot(np.sqrt(train_errors), \"r-+\", linewidth=2, label=\"train\")\n",
    "    plt.plot(np.sqrt(val_errors), \"b-\", linewidth=3, label=\"val\")\n",
    "    plt.xlabel('Training set size')\n",
    "    plt.ylabel('RMSE')\n",
    "    plt.title('Plot of Training Errors (red) vs Validation Errors (blue) ')\n",
    "    \n",
    "df_merged_sample=df_merged.sample(100)\n",
    "#print(df_merged_sample.head(3))\n",
    "#X_sample=df_merged_sample[['AT', 'V', 'AP', 'RH']]\n",
    "#y_sample=df_merged_sample[['PE']]\n",
    "#plot_learning_curves(svm_reg2,X_sample, y_sample)\n",
    "\n",
    "X_sample=df_merged_sample.filter(['city_encoded', 'year', 'weekofyear', 'ndvi_ne', 'ndvi_nw','ndvi_se', 'ndvi_sw', 'precipitation_amt_mm', \n",
    "               'reanalysis_air_tmp_k', 'reanalysis_relative_humidity_percent','reanalysis_sat_precip_amt_mm',\n",
    "              'reanalysis_specific_humidity_g_per_kg', 'reanalysis_tdtr_k', 'station_avg_tmp_c', \n",
    "               'station_diur_tmp_rng_c', 'station_max_tmp_c', 'station_min_tmp_c',  'station_precip_mm' ])\n",
    "y_sample=df_merged_sample.filter(['total_cases'])\n",
    "plot_learning_curves(svm_reg2,X_sample, y_sample)\n"
   ]
  },
  {
   "cell_type": "code",
   "execution_count": null,
   "metadata": {},
   "outputs": [],
   "source": []
  },
  {
   "cell_type": "code",
   "execution_count": null,
   "metadata": {},
   "outputs": [],
   "source": []
  },
  {
   "cell_type": "code",
   "execution_count": null,
   "metadata": {},
   "outputs": [],
   "source": []
  },
  {
   "cell_type": "code",
   "execution_count": null,
   "metadata": {},
   "outputs": [],
   "source": []
  },
  {
   "cell_type": "markdown",
   "metadata": {},
   "source": [
    "This competition is for fun, and the data is available for use outside of DrivenData. If you use the dataset for projects, we encourage you to share your work on the forum or on twitter! If you publish work, please cite the DrivenData platform paper. "
   ]
  }
 ],
 "metadata": {
  "kernelspec": {
   "display_name": "Python 2",
   "language": "python",
   "name": "python2"
  },
  "language_info": {
   "codemirror_mode": {
    "name": "ipython",
    "version": 2
   },
   "file_extension": ".py",
   "mimetype": "text/x-python",
   "name": "python",
   "nbconvert_exporter": "python",
   "pygments_lexer": "ipython2",
   "version": "2.7.16"
  }
 },
 "nbformat": 4,
 "nbformat_minor": 2
}
