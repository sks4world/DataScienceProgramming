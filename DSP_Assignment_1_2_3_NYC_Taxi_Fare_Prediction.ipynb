{
 "cells": [
  {
   "cell_type": "markdown",
   "metadata": {},
   "source": [
    "# Assignment 1"
   ]
  },
  {
   "cell_type": "markdown",
   "metadata": {},
   "source": [
    "Download the taxi-fare-train.csv and the taxi-fare-test.csv data sets and save them to the Data folder you've created at the previous step. We use these data sets to train the machine learning model and then evaluate how accurate the model is. These data sets are originally from the NYC TLC Taxi Trip data set.\n",
    "\n",
    "1. Train.csv https://github.com/dotnet/machinelearning/blob/master/test/data/taxi-fare-train.csv\n",
    "2. Test.csv https://github.com/dotnet/machinelearning/blob/master/test/data/taxi-fare-test.csv\n",
    "3. Original link https://www1.nyc.gov/site/tlc/about/tlc-trip-record-data.page"
   ]
  },
  {
   "cell_type": "markdown",
   "metadata": {},
   "source": [
    "The label is the column you want to predict. The identified Features are the inputs you give the model to predict the Label.\n",
    "\n",
    "The provided data set contains the following columns:\n",
    "\n",
    "    vendor_id: The ID of the taxi vendor is a feature.\n",
    "    rate_code: The rate type of the taxi trip is a feature.\n",
    "    passenger_count: The number of passengers on the trip is a feature.\n",
    "    trip_time_in_secs: The amount of time the trip took. You want to predict the fare of the trip before the trip is completed. At that moment, you don't know how long the trip would take. Thus, the trip time is not a feature and you'll exclude this column from the model.\n",
    "    trip_distance: The distance of the trip is a feature.\n",
    "    payment_type: The payment method (cash or credit card) is a feature.\n",
    "    fare_amount: The total taxi fare paid is the label.\n"
   ]
  },
  {
   "cell_type": "markdown",
   "metadata": {},
   "source": [
    "This problem is about predicting a taxi trip fare in New York City. At first glance, it may seem to depend simply on the distance traveled. However, taxi vendors in New York charge varying amounts for other factors such as additional passengers or paying with a credit card instead of cash. You want to predict the price value, which is a real value, based on the other factors in the dataset. To do that, you choose a regression machine learning task."
   ]
  },
  {
   "cell_type": "code",
   "execution_count": 2,
   "metadata": {},
   "outputs": [],
   "source": [
    "#Import libraries\n",
    "import pandas as pd\n",
    "import matplotlib.pyplot as plt\n",
    "import os\n"
   ]
  },
  {
   "cell_type": "code",
   "execution_count": 3,
   "metadata": {},
   "outputs": [],
   "source": [
    "#Read train data\n",
    "os.chdir('B:\\\\Travel\\\\US\\\\USF_Course\\\\GA')"
   ]
  },
  {
   "cell_type": "code",
   "execution_count": 4,
   "metadata": {},
   "outputs": [],
   "source": [
    "df = pd.read_csv('taxi-fare-train.csv')"
   ]
  },
  {
   "cell_type": "code",
   "execution_count": 5,
   "metadata": {},
   "outputs": [
    {
     "data": {
      "text/html": [
       "<div>\n",
       "<style scoped>\n",
       "    .dataframe tbody tr th:only-of-type {\n",
       "        vertical-align: middle;\n",
       "    }\n",
       "\n",
       "    .dataframe tbody tr th {\n",
       "        vertical-align: top;\n",
       "    }\n",
       "\n",
       "    .dataframe thead th {\n",
       "        text-align: right;\n",
       "    }\n",
       "</style>\n",
       "<table border=\"1\" class=\"dataframe\">\n",
       "  <thead>\n",
       "    <tr style=\"text-align: right;\">\n",
       "      <th></th>\n",
       "      <th>vendor_id</th>\n",
       "      <th>rate_code</th>\n",
       "      <th>passenger_count</th>\n",
       "      <th>trip_time_in_secs</th>\n",
       "      <th>trip_distance</th>\n",
       "      <th>payment_type</th>\n",
       "      <th>fare_amount</th>\n",
       "    </tr>\n",
       "  </thead>\n",
       "  <tbody>\n",
       "    <tr>\n",
       "      <th>0</th>\n",
       "      <td>CMT</td>\n",
       "      <td>1</td>\n",
       "      <td>1</td>\n",
       "      <td>1271</td>\n",
       "      <td>3.8</td>\n",
       "      <td>CRD</td>\n",
       "      <td>17.5</td>\n",
       "    </tr>\n",
       "    <tr>\n",
       "      <th>1</th>\n",
       "      <td>CMT</td>\n",
       "      <td>1</td>\n",
       "      <td>1</td>\n",
       "      <td>474</td>\n",
       "      <td>1.5</td>\n",
       "      <td>CRD</td>\n",
       "      <td>8.0</td>\n",
       "    </tr>\n",
       "    <tr>\n",
       "      <th>2</th>\n",
       "      <td>CMT</td>\n",
       "      <td>1</td>\n",
       "      <td>1</td>\n",
       "      <td>637</td>\n",
       "      <td>1.4</td>\n",
       "      <td>CRD</td>\n",
       "      <td>8.5</td>\n",
       "    </tr>\n",
       "  </tbody>\n",
       "</table>\n",
       "</div>"
      ],
      "text/plain": [
       "  vendor_id  rate_code  passenger_count  trip_time_in_secs  trip_distance  \\\n",
       "0       CMT          1                1               1271            3.8   \n",
       "1       CMT          1                1                474            1.5   \n",
       "2       CMT          1                1                637            1.4   \n",
       "\n",
       "  payment_type  fare_amount  \n",
       "0          CRD         17.5  \n",
       "1          CRD          8.0  \n",
       "2          CRD          8.5  "
      ]
     },
     "execution_count": 5,
     "metadata": {},
     "output_type": "execute_result"
    }
   ],
   "source": [
    "df.head(3)"
   ]
  },
  {
   "cell_type": "code",
   "execution_count": 6,
   "metadata": {},
   "outputs": [
    {
     "name": "stdout",
     "output_type": "stream",
     "text": [
      "(1048575, 7)\n"
     ]
    }
   ],
   "source": [
    "print(df.shape)"
   ]
  },
  {
   "cell_type": "code",
   "execution_count": 17,
   "metadata": {},
   "outputs": [
    {
     "data": {
      "image/png": "[encoded data removed]",
      "text/plain": [
       "<Figure size 432x288 with 1 Axes>"
      ]
     },
     "metadata": {
      "needs_background": "light"
     },
     "output_type": "display_data"
    }
   ],
   "source": [
    "colors=(0,0,0)\n",
    "plt.scatter(df.trip_distance, df.fare_amount, c=colors, alpha=0.5)\n",
    "plt.title('Plot between Trip distance and Fare amount')\n",
    "plt.xlabel('Trip distance')\n",
    "plt.ylabel('Fare amount')\n",
    "plt.show()"
   ]
  },
  {
   "cell_type": "code",
   "execution_count": 37,
   "metadata": {},
   "outputs": [
    {
     "name": "stdout",
     "output_type": "stream",
     "text": [
      "   vendor_id  rate_code  passenger_count  trip_time_in_secs  trip_distance  \\\n",
      "16       CMT          1                3                371            0.6   \n",
      "21       CMT          1                3                485            0.8   \n",
      "59       CMT          1                3                820            2.6   \n",
      "\n",
      "   payment_type  fare_amount  \n",
      "16          CRD          6.0  \n",
      "21          CSH          6.5  \n",
      "59          CRD         11.5  \n"
     ]
    }
   ],
   "source": [
    "df_passengers_1 = df[df.passenger_count==1]\n",
    "df_passengers_2 = df[df.passenger_count==2]\n",
    "df_passengers_3 = df[df.passenger_count==3]\n",
    "df_passengers_4 = df[df.passenger_count==4]\n",
    "df_passengers_5 = df[df.passenger_count==5]\n",
    "df_passengers_6 = df[df.passenger_count==6]\n",
    "print(df_passengers_3.head(3))"
   ]
  },
  {
   "cell_type": "code",
   "execution_count": 41,
   "metadata": {},
   "outputs": [],
   "source": [
    "g1=(df_passengers_1.passenger_count, df_passengers_1.fare_amount)\n",
    "g2=(df_passengers_2.passenger_count, df_passengers_2.fare_amount)\n",
    "g3=(df_passengers_3.passenger_count, df_passengers_3.fare_amount)\n",
    "g4=(df_passengers_4.passenger_count, df_passengers_4.fare_amount)\n",
    "g5=(df_passengers_5.passenger_count, df_passengers_5.fare_amount)\n",
    "g6=(df_passengers_6.passenger_count, df_passengers_6.fare_amount)\n",
    "\n",
    "data = (g1,g2,g3,g4,g5,g6)\n",
    "colors = ('red', 'blue', 'green', 'black', 'teal', 'yellow')\n",
    "groups = ('pas_1', 'pas_2', 'pas_3', 'pas_4', 'pas_5', 'pas_6',)"
   ]
  },
  {
   "cell_type": "code",
   "execution_count": 50,
   "metadata": {},
   "outputs": [
    {
     "data": {
      "image/png": "[encoded data removed]",
      "text/plain": [
       "<Figure size 432x288 with 1 Axes>"
      ]
     },
     "metadata": {
      "needs_background": "light"
     },
     "output_type": "display_data"
    }
   ],
   "source": [
    "fig = plt.figure()\n",
    "ax = fig.add_subplot(1,1,1)\n",
    "\n",
    "x=df_passengers_1.trip_distance\n",
    "y=df_passengers_1.fare_amount\n",
    "ax.scatter(x, y, alpha=0.8, c='red', label='pas_1')\n",
    "\n",
    "x=df_passengers_2.trip_distance\n",
    "y=df_passengers_2.fare_amount\n",
    "ax.scatter(x, y, alpha=0.8, c='blue', label= 'pas_2')\n",
    "\n",
    "x=df_passengers_3.trip_distance\n",
    "y=df_passengers_3.fare_amount\n",
    "ax.scatter(x, y, alpha=0.8, c='green', label= 'pas_3')\n",
    "\n",
    "x=df_passengers_4.trip_distance\n",
    "y=df_passengers_4.fare_amount\n",
    "ax.scatter(x, y, alpha=0.8, c='black', label= 'pas_4')\n",
    "\n",
    "x=df_passengers_5.trip_distance\n",
    "y=df_passengers_5.fare_amount\n",
    "ax.scatter(x, y, alpha=0.8, c='teal', label= 'pas_5')\n",
    "\n",
    "x=df_passengers_6.trip_distance\n",
    "y=df_passengers_6.fare_amount\n",
    "ax.scatter(x, y, alpha=0.8, c='yellow', label= 'pas_6')\n",
    "\n",
    "plt.title('Plot between Trip distance and Fare amount')\n",
    "plt.xlabel('Trip distance')\n",
    "plt.ylabel('Fare amount')\n",
    "plt.legend(loc=1)\n",
    "plt.show()\n",
    "\n",
    "#Try a for loop for the above:\n",
    "#for data, color, group in zip(data, colors, groups):\n",
    "#    x,y=data\n",
    "#    ax.scatter(x, y, alpha=0.8, c=color, edgecolors='none', s=30, label=group)"
   ]
  },
  {
   "cell_type": "code",
   "execution_count": 51,
   "metadata": {},
   "outputs": [
    {
     "data": {
      "text/plain": [
       "vendor_id             object\n",
       "rate_code              int64\n",
       "passenger_count        int64\n",
       "trip_time_in_secs      int64\n",
       "trip_distance        float64\n",
       "payment_type          object\n",
       "fare_amount          float64\n",
       "dtype: object"
      ]
     },
     "execution_count": 51,
     "metadata": {},
     "output_type": "execute_result"
    }
   ],
   "source": [
    "df.dtypes #Check data types and change if needed"
   ]
  },
  {
   "cell_type": "code",
   "execution_count": 54,
   "metadata": {},
   "outputs": [
    {
     "data": {
      "text/plain": [
       "vendor_id            0\n",
       "rate_code            0\n",
       "passenger_count      0\n",
       "trip_time_in_secs    0\n",
       "trip_distance        0\n",
       "payment_type         0\n",
       "fare_amount          0\n",
       "dtype: int64"
      ]
     },
     "execution_count": 54,
     "metadata": {},
     "output_type": "execute_result"
    }
   ],
   "source": [
    "df.isnull().sum() #Check number of NAs or missing values"
   ]
  },
  {
   "cell_type": "code",
   "execution_count": 71,
   "metadata": {},
   "outputs": [
    {
     "data": {
      "image/png": "[encoded data removed]",
      "text/plain": [
       "<Figure size 432x288 with 1 Axes>"
      ]
     },
     "metadata": {
      "needs_background": "light"
     },
     "output_type": "display_data"
    }
   ],
   "source": [
    "df_fare = df.filter(['fare_amount', 'passenger_count'], axis=1)\n",
    "\n",
    "df_fare['pas_count_category'] = df_fare.passenger_count.astype('category')\n",
    "df_fare = df.filter(['fare_amount', 'pas_count_category'])\n",
    "\n",
    "df_fare.boxplot(by='pas_count_category')\n",
    "\n",
    "plt.show()"
   ]
  },
  {
   "cell_type": "code",
   "execution_count": 77,
   "metadata": {},
   "outputs": [
    {
     "data": {
      "image/png": "[encoded data removed]",
      "text/plain": [
       "<Figure size 432x288 with 1 Axes>"
      ]
     },
     "metadata": {
      "needs_background": "light"
     },
     "output_type": "display_data"
    }
   ],
   "source": [
    "#Histogram of fare_amount\n",
    "x = df.fare_amount\n",
    "num_bins = 10\n",
    "n, bins, patches = plt.hist(x, num_bins, facecolor='orange', alpha=0.5)\n",
    "plt.xlim(xmin=0, xmax=100)\n",
    "plt.xlabel('fare_amount')\n",
    "plt.ylabel('count of observations')\n",
    "plt.show()"
   ]
  },
  {
   "cell_type": "code",
   "execution_count": null,
   "metadata": {},
   "outputs": [],
   "source": []
  },
  {
   "cell_type": "code",
   "execution_count": null,
   "metadata": {},
   "outputs": [],
   "source": []
  },
  {
   "cell_type": "code",
   "execution_count": null,
   "metadata": {},
   "outputs": [],
   "source": []
  },
  {
   "cell_type": "code",
   "execution_count": null,
   "metadata": {},
   "outputs": [],
   "source": []
  },
  {
   "cell_type": "code",
   "execution_count": null,
   "metadata": {},
   "outputs": [],
   "source": []
  },
  {
   "cell_type": "markdown",
   "metadata": {},
   "source": [
    "# Assignment 2"
   ]
  },
  {
   "cell_type": "markdown",
   "metadata": {},
   "source": [
    "Use the data frame from Assignment 1 for this assignment\n",
    "This Assignment focuses on data preprocessing and model building. Continue with the datasets loaded in Assignment 1 (or reload with same steps and create merged data frame) and Make a stratified 80-20 split based on target to ensure there are no biases in the dataset. Predict the \"fare_amount\" using a stochastic gradient descent regressor. Calculate the Root Mean Square Error. Also, plot Learning Curve for the model. Provide your intepretations based on these metrics."
   ]
  },
  {
   "cell_type": "markdown",
   "metadata": {},
   "source": [
    "<ul>\n",
    "    <li>Import the required libraries</li>\n",
    "    <li>Make an 80-20 stratified split based on the target data</li>\n",
    "    <li>Preprocess the data (Encode the  categorical features and Standardize the numerical features)</li>\n",
    "    <li>Build a stochastic gradient descent regressor, train the model and make predictions using it</li>\n",
    "    <li>Evaluate your model based on the various metrics stated above</li>\n",
    "    <li>Plot Learning curve and provide insights</li>\n",
    "</ul>"
   ]
  },
  {
   "cell_type": "code",
   "execution_count": 80,
   "metadata": {},
   "outputs": [],
   "source": [
    "from sklearn import preprocessing\n",
    "from sklearn.preprocessing import LabelEncoder\n",
    "le_vendorId = LabelEncoder()\n",
    "df['vendor_id_encoded'] = le_vendorId.fit_transform(df.vendor_id)"
   ]
  },
  {
   "cell_type": "code",
   "execution_count": 81,
   "metadata": {},
   "outputs": [],
   "source": [
    "from sklearn.model_selection import train_test_split\n",
    "\n",
    "X=df.filter(['vendor_id_encoded', 'trip_distance']) #Include other columns in your model\n",
    "y=df.filter(['fare_amount'])\n",
    "\n",
    "X_train, X_test, y_train, y_test=train_test_split(X,y)"
   ]
  },
  {
   "cell_type": "code",
   "execution_count": 82,
   "metadata": {},
   "outputs": [
    {
     "name": "stdout",
     "output_type": "stream",
     "text": [
      "((786431, 2), (262144, 2), (786431, 1), (262144, 1))\n"
     ]
    }
   ],
   "source": [
    "print(X_train.shape, X_test.shape, y_train.shape, y_test.shape)"
   ]
  },
  {
   "cell_type": "code",
   "execution_count": 85,
   "metadata": {},
   "outputs": [],
   "source": [
    "import numpy as np\n",
    "from sklearn.linear_model import SGDRegressor"
   ]
  },
  {
   "cell_type": "code",
   "execution_count": 87,
   "metadata": {},
   "outputs": [],
   "source": [
    "#sgd_reg_mdl = linear_model.SGDRegressor(max_iter=1000, tol=1e-3)\n",
    "sgd_reg_mdl = SGDRegressor(max_iter=1000, tol=1e-3)"
   ]
  },
  {
   "cell_type": "code",
   "execution_count": 88,
   "metadata": {},
   "outputs": [
    {
     "name": "stderr",
     "output_type": "stream",
     "text": [
      "C:\\Users\\brindhasrikrishna\\Anaconda2\\lib\\site-packages\\sklearn\\utils\\validation.py:761: DataConversionWarning: A column-vector y was passed when a 1d array was expected. Please change the shape of y to (n_samples, ), for example using ravel().\n",
      "  y = column_or_1d(y, warn=True)\n"
     ]
    },
    {
     "data": {
      "text/plain": [
       "SGDRegressor(alpha=0.0001, average=False, early_stopping=False, epsilon=0.1,\n",
       "       eta0=0.01, fit_intercept=True, l1_ratio=0.15,\n",
       "       learning_rate='invscaling', loss='squared_loss', max_iter=None,\n",
       "       n_iter=None, n_iter_no_change=5, penalty='l2', power_t=0.25,\n",
       "       random_state=None, shuffle=True, tol=None, validation_fraction=0.1,\n",
       "       verbose=0, warm_start=False)"
      ]
     },
     "execution_count": 88,
     "metadata": {},
     "output_type": "execute_result"
    }
   ],
   "source": [
    "sgd_reg_mdl.fit(X_train, y_train)\n",
    "SGDRegressor()"
   ]
  },
  {
   "cell_type": "code",
   "execution_count": 89,
   "metadata": {},
   "outputs": [],
   "source": [
    "y_pred1=sgd_reg_mdl.predict(X_test)"
   ]
  },
  {
   "cell_type": "code",
   "execution_count": 90,
   "metadata": {},
   "outputs": [
    {
     "name": "stdout",
     "output_type": "stream",
     "text": [
      "('Mean Squared Error is: ', 20.013601988857133)\n",
      "('Mean Absolute Error is: ', 1.6722280707506687)\n"
     ]
    }
   ],
   "source": [
    "from sklearn.metrics import mean_squared_error\n",
    "from sklearn.metrics import mean_absolute_error\n",
    "\n",
    "\n",
    "mse1=mean_squared_error(y_test,y_pred1)\n",
    "print('Mean Squared Error is: ', mse1)\n",
    "mae1=mean_absolute_error(y_test,y_pred1)\n",
    "print('Mean Absolute Error is: ', mae1)\n",
    "\n",
    "#Interpret the MSE and MAE of this model and take measures to improve these errors"
   ]
  },
  {
   "cell_type": "code",
   "execution_count": 94,
   "metadata": {},
   "outputs": [
    {
     "name": "stderr",
     "output_type": "stream",
     "text": [
      "C:\\Users\\brindhasrikrishna\\Anaconda2\\lib\\site-packages\\sklearn\\linear_model\\stochastic_gradient.py:1229: ConvergenceWarning: Maximum number of iteration reached before convergence. Consider increasing max_iter to improve the fit.\n",
      "  ConvergenceWarning)\n"
     ]
    },
    {
     "data": {
      "image/png": "[encoded data removed]",
      "text/plain": [
       "<Figure size 432x288 with 1 Axes>"
      ]
     },
     "metadata": {
      "needs_background": "light"
     },
     "output_type": "display_data"
    }
   ],
   "source": [
    "import numpy as np\n",
    "\n",
    "def plot_learning_curves(model, X, y):\n",
    "    X_train, X_val, y_train, y_val = train_test_split(X, y, test_size=0.2)\n",
    "    train_errors, val_errors = [], []\n",
    "    for m in range(1, len(X_train)):\n",
    "        model.fit(X_train[:m], y_train[:m])\n",
    "        y_train_predict = model.predict(X_train[:m])\n",
    "        y_val_predict = model.predict(X_val)\n",
    "        train_errors.append(mean_squared_error(y_train_predict, y_train[:m]))\n",
    "        val_errors.append(mean_squared_error(y_val_predict, y_val))\n",
    "    plt.plot(np.sqrt(train_errors), \"r-+\", linewidth=2, label=\"train\")\n",
    "    plt.plot(np.sqrt(val_errors), \"b-\", linewidth=3, label=\"val\")\n",
    "    plt.xlabel('Training set size')\n",
    "    plt.ylabel('RMSE')\n",
    "    plt.title('Plot of Training Errors (red) vs Validation Errors (blue) ')\n",
    "    \n",
    "df_sample=df.sample(100)\n",
    "#print(df_sample.head(10))\n",
    "\n",
    "X_sample=df_sample.filter(['vendor_id_encoded', 'trip_distance']) #Include the other variables also here\n",
    "y_sample=df_sample.filter(['fare_amount'])\n",
    "plot_learning_curves(sgd_reg_mdl,X_sample, y_sample)"
   ]
  },
  {
   "cell_type": "code",
   "execution_count": null,
   "metadata": {},
   "outputs": [],
   "source": []
  },
  {
   "cell_type": "code",
   "execution_count": null,
   "metadata": {},
   "outputs": [],
   "source": []
  },
  {
   "cell_type": "code",
   "execution_count": null,
   "metadata": {},
   "outputs": [],
   "source": []
  },
  {
   "cell_type": "code",
   "execution_count": null,
   "metadata": {},
   "outputs": [],
   "source": []
  },
  {
   "cell_type": "code",
   "execution_count": null,
   "metadata": {},
   "outputs": [],
   "source": []
  },
  {
   "cell_type": "code",
   "execution_count": null,
   "metadata": {},
   "outputs": [],
   "source": []
  },
  {
   "cell_type": "markdown",
   "metadata": {},
   "source": [
    "# Assignment 3"
   ]
  },
  {
   "cell_type": "markdown",
   "metadata": {},
   "source": [
    "1. Load the same data set as before in Assignment 1 and 2\n",
    "2. Visualize the distribution of each key attibute\n",
    "3. Split the data into training and test sets\n",
    "4. For the support vector models to perform better, scale the data (if it is required)\n",
    "5. Build a linear SVR model and analyse its performances\n",
    "6. Build a SVR model with a linear kernel and compare its performances with the Linear SVR model\n",
    "7. Using a sample from the original data, plot a learning curve for the SVR model and interpret the results\n",
    "\n",
    "Create a model that has higher accuracy."
   ]
  },
  {
   "cell_type": "code",
   "execution_count": 7,
   "metadata": {},
   "outputs": [],
   "source": [
    "from sklearn import preprocessing\n",
    "from sklearn.preprocessing import LabelEncoder\n",
    "le_vendorId = LabelEncoder()\n",
    "df['vendor_id_encoded'] = le_vendorId.fit_transform(df.vendor_id)"
   ]
  },
  {
   "cell_type": "code",
   "execution_count": 8,
   "metadata": {},
   "outputs": [],
   "source": [
    "from sklearn.model_selection import train_test_split\n",
    "\n",
    "X=df.filter(['vendor_id_encoded','trip_time_in_secs' 'trip_distance']) #Include other columns in your model\n",
    "y=df.filter(['fare_amount'])\n",
    "\n",
    "X_train, X_test, y_train, y_test=train_test_split(X,y)"
   ]
  },
  {
   "cell_type": "code",
   "execution_count": 9,
   "metadata": {},
   "outputs": [
    {
     "name": "stdout",
     "output_type": "stream",
     "text": [
      "((786431, 1), (262144, 1), (786431, 1), (262144, 1))\n"
     ]
    }
   ],
   "source": [
    "print(X_train.shape, X_test.shape, y_train.shape, y_test.shape)"
   ]
  },
  {
   "cell_type": "code",
   "execution_count": 10,
   "metadata": {},
   "outputs": [
    {
     "name": "stderr",
     "output_type": "stream",
     "text": [
      "C:\\Users\\brindhasrikrishna\\Anaconda2\\lib\\site-packages\\sklearn\\utils\\validation.py:761: DataConversionWarning: A column-vector y was passed when a 1d array was expected. Please change the shape of y to (n_samples, ), for example using ravel().\n",
      "  y = column_or_1d(y, warn=True)\n"
     ]
    }
   ],
   "source": [
    "from sklearn.svm import LinearSVR\n",
    "\n",
    "svm_reg1=LinearSVR(epsilon=0.05)\n",
    "svm_reg1.fit(X_train, y_train)\n",
    "y_pred1=svm_reg1.predict(X_test)"
   ]
  },
  {
   "cell_type": "code",
   "execution_count": 11,
   "metadata": {},
   "outputs": [
    {
     "name": "stdout",
     "output_type": "stream",
     "text": [
      "100.63130718498161\n",
      "5.429732625158822\n"
     ]
    }
   ],
   "source": [
    "from sklearn.metrics import mean_squared_error\n",
    "from sklearn.metrics import mean_absolute_error\n",
    "\n",
    "mse1=mean_squared_error(y_test,y_pred1)\n",
    "print(mse1)\n",
    "mae1=mean_absolute_error(y_test,y_pred1)\n",
    "print(mae1)\n",
    "\n",
    "#Interpret the MSE and MAE and improve the accuracy of these measures"
   ]
  },
  {
   "cell_type": "code",
   "execution_count": null,
   "metadata": {},
   "outputs": [],
   "source": [
    "from sklearn.svm import SVR\n",
    "\n",
    "svm_reg2=SVR(kernel='linear', epsilon=0.05)\n",
    "svm_reg2.fit(X_train, y_train)\n",
    "y_pred2=svm_reg2.predict(X_test)\n",
    "\n",
    "mse2=mean_squared_error(y_test,y_pred2)\n",
    "print('Mean Squared Error is: ', mse2)\n",
    "mae2=mean_absolute_error(y_test,y_pred2)\n",
    "print('Mean Absolute Error is: ', mae1)"
   ]
  },
  {
   "cell_type": "code",
   "execution_count": null,
   "metadata": {},
   "outputs": [],
   "source": [
    "import numpy as np\n",
    "\n",
    "def plot_learning_curves(model, X, y):\n",
    "    X_train, X_val, y_train, y_val = train_test_split(X, y, test_size=0.2)\n",
    "    train_errors, val_errors = [], []\n",
    "    for m in range(1, len(X_train)):\n",
    "        model.fit(X_train[:m], y_train[:m])\n",
    "        y_train_predict = model.predict(X_train[:m])\n",
    "        y_val_predict = model.predict(X_val)\n",
    "        train_errors.append(mean_squared_error(y_train_predict, y_train[:m]))\n",
    "        val_errors.append(mean_squared_error(y_val_predict, y_val))\n",
    "    plt.plot(np.sqrt(train_errors), \"r-+\", linewidth=2, label=\"train\")\n",
    "    plt.plot(np.sqrt(val_errors), \"b-\", linewidth=3, label=\"val\")\n",
    "    plt.xlabel('Training set size')\n",
    "    plt.ylabel('RMSE')\n",
    "    plt.title('Plot of Training Errors (red) vs Validation Errors (blue) ')\n",
    "    \n",
    "df_sample=df.sample(100)\n",
    "X_sample=df_sample.filter(['vendor_id_encoded', 'trip_distance']) #Include the other variables also here\n",
    "y_sample=df_sample.filter(['fare_amount'])\n",
    "plot_learning_curves(svm_reg2,X_sample, y_sample)"
   ]
  }
 ],
 "metadata": {
  "kernelspec": {
   "display_name": "Python 2",
   "language": "python",
   "name": "python2"
  },
  "language_info": {
   "codemirror_mode": {
    "name": "ipython",
    "version": 2
   },
   "file_extension": ".py",
   "mimetype": "text/x-python",
   "name": "python",
   "nbconvert_exporter": "python",
   "pygments_lexer": "ipython2",
   "version": "2.7.16"
  }
 },
 "nbformat": 4,
 "nbformat_minor": 2
}
